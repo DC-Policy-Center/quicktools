{
 "cells": [
  {
   "cell_type": "markdown",
   "metadata": {},
   "source": [
    "Notes to remember\n",
    "* https://stackoverflow.com/questions/44309507/stacked-bar-plot-using-matplotlib\n"
   ]
  },
  {
   "cell_type": "code",
   "execution_count": 26,
   "metadata": {},
   "outputs": [],
   "source": [
    "\n",
    "import seaborn as sns\n",
    "from matplotlib import pyplot as plt\n"
   ]
  },
  {
   "cell_type": "code",
   "execution_count": 23,
   "metadata": {},
   "outputs": [],
   "source": [
    "%matplotlib inline"
   ]
  },
  {
   "cell_type": "code",
   "execution_count": 22,
   "metadata": {},
   "outputs": [],
   "source": [
    "x = [0, 1 , 2 , 3]\n",
    "xlab = ['2016','2017','2018','2019']\n",
    "yt = [17,22,29,10]\n",
    "yb = [8,13,16,7]"
   ]
  },
  {
   "cell_type": "code",
   "execution_count": 51,
   "metadata": {},
   "outputs": [],
   "source": [
    "#Pre plot creation styling\n",
    "sns.set_style(\"white\")\n",
    "top_bar_color = '#E8272C'\n",
    "bottom_bar_color = '#BECCDA'"
   ]
  },
  {
   "cell_type": "code",
   "execution_count": 72,
   "metadata": {},
   "outputs": [
    {
     "data": {
      "image/png": "[encoded data removed]",
      "text/plain": [
       "<Figure size 432x288 with 1 Axes>"
      ]
     },
     "metadata": {},
     "output_type": "display_data"
    }
   ],
   "source": [
    "\n",
    "pt = plt.bar(x,yt,\n",
    "             color=top_bar_color)\n",
    "\n",
    "pb = plt.bar(x,yb,\n",
    "             bottom=yt,\n",
    "             color=bottom_bar_color)\n",
    "\n",
    "\n",
    "\n",
    "# Post plot creation styling\n",
    "plt.xticks(x,xlab)\n",
    "\n",
    "#plt.legend(('Corporations','Foundations'), fontsize=12, ncol=2, framealpha=0, fancybox=True,loc='upper left')\n",
    "plt.legend(('Corporations','Foundations'),loc='upper right', bbox_to_anchor=(1.05, 1.3), ncol=1)\n",
    "\n",
    "#Figure formatting for saving\n",
    "plt.gca().set_position([0, 0, .7, .7])\n",
    "\n",
    "#Save figure\n",
    "plt.savefig(\"test.svg\", format=\"svg\")\n",
    "\n",
    "\n",
    "\n",
    "# Show at the very end\n",
    "plt.show()\n"
   ]
  },
  {
   "cell_type": "code",
   "execution_count": 66,
   "metadata": {},
   "outputs": [
    {
     "data": {
      "text/plain": [
       "<Figure size 432x288 with 0 Axes>"
      ]
     },
     "metadata": {},
     "output_type": "display_data"
    }
   ],
   "source": []
  },
  {
   "cell_type": "code",
   "execution_count": null,
   "metadata": {},
   "outputs": [],
   "source": []
  }
 ],
 "metadata": {
  "kernelspec": {
   "display_name": "Python 3",
   "language": "python",
   "name": "python3"
  },
  "language_info": {
   "codemirror_mode": {
    "name": "ipython",
    "version": 3
   },
   "file_extension": ".py",
   "mimetype": "text/x-python",
   "name": "python",
   "nbconvert_exporter": "python",
   "pygments_lexer": "ipython3",
   "version": "3.7.3"
  }
 },
 "nbformat": 4,
 "nbformat_minor": 2
}
