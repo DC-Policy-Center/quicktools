{
 "cells": [
  {
   "cell_type": "code",
   "execution_count": 1,
   "metadata": {
    "collapsed": true
   },
   "outputs": [],
   "source": [
    "import pandas as pd\n",
    "import re"
   ]
  },
  {
   "cell_type": "code",
   "execution_count": 2,
   "metadata": {
    "collapsed": false
   },
   "outputs": [],
   "source": [
    "data = pd.read_csv('title_list.txt',sep=';;',engine='python')"
   ]
  },
  {
   "cell_type": "code",
   "execution_count": 23,
   "metadata": {
    "collapsed": false
   },
   "outputs": [],
   "source": [
    " def seperate_tags(df,tag_depth=4):\n",
    "    data = df\n",
    "\n",
    "    current_tag_depth = 0\n",
    "\n",
    "\n",
    "\n",
    "    for current_tag_depth in range(tag_depth):\n",
    "        tag_string = 'tag_%s'%str(current_tag_depth+1)\n",
    "        data[tag_string] = ''\n",
    "\n",
    "        i= 0\n",
    "        for line in range(len(data)):\n",
    "            a = get_tags(data['tags'][i])\n",
    "\n",
    "            try:\n",
    "                data[tag_string][i] = a[current_tag_depth]\n",
    "            except:\n",
    "                data[tag_string][i] = ''\n",
    "                \n",
    "            i+=1\n",
    "            \n",
    "            \n",
    "        current_tag_depth +=1\n",
    "    return(data)"
   ]
  },
  {
   "cell_type": "code",
   "execution_count": 8,
   "metadata": {
    "collapsed": false
   },
   "outputs": [],
   "source": [
    "def get_tags(tagstr):\n",
    "    my_list = tagstr.split(\",\")\n",
    "    ml2 = []\n",
    "    for item in my_list:\n",
    "        item = re.sub(r\"\\s+\", \"\", item, flags=re.UNICODE)\n",
    "        ml2.append(item)\n",
    "    return(ml2)"
   ]
  },
  {
   "cell_type": "code",
   "execution_count": 80,
   "metadata": {
    "collapsed": true
   },
   "outputs": [],
   "source": [
    "def output_format(df):\n",
    "    output_list = []\n",
    "    i = 0\n",
    "    for line in range(len(df)):\n",
    "        \n",
    "        author = df['author'][i]\n",
    "        title = df['title'][i]\n",
    "        url = df['url'][i]\n",
    "        date = df['date'][i]\n",
    "\n",
    "        output_str = \"<li><a href='{}'> {}</a>. {},{}</li>\".format(url,title,author,date)\n",
    "        output_list.append(output_str)\n",
    "        \n",
    "        i+=1\n",
    "        \n",
    "        \n",
    "    return(output_list)\n",
    "    "
   ]
  },
  {
   "cell_type": "code",
   "execution_count": 81,
   "metadata": {
    "collapsed": false
   },
   "outputs": [],
   "source": [
    "with open('formatted.html','a') as f:\n",
    "    f.write(\"<ul>\")\n",
    "    output_line_list = output_format(data)\n",
    "    for line in output_line_list:\n",
    "        f.write(line)\n",
    "    f.write(\"</ul>\")"
   ]
  },
  {
   "cell_type": "code",
   "execution_count": null,
   "metadata": {
    "collapsed": false
   },
   "outputs": [],
   "source": [
    "data\n"
   ]
  },
  {
   "cell_type": "code",
   "execution_count": 24,
   "metadata": {
    "collapsed": false
   },
   "outputs": [],
   "source": [
    "data = seperate_tags(data)"
   ]
  },
  {
   "cell_type": "code",
   "execution_count": 26,
   "metadata": {
    "collapsed": false
   },
   "outputs": [
    {
     "data": {
      "text/html": [
       "<div>\n",
       "<table border=\"1\" class=\"dataframe\">\n",
       "  <thead>\n",
       "    <tr style=\"text-align: right;\">\n",
       "      <th></th>\n",
       "      <th>title</th>\n",
       "      <th>url</th>\n",
       "      <th>author</th>\n",
       "      <th>date</th>\n",
       "      <th>tags</th>\n",
       "      <th>tag_1</th>\n",
       "      <th>tag_2</th>\n",
       "      <th>tag_3</th>\n",
       "      <th>tag_4</th>\n",
       "    </tr>\n",
       "  </thead>\n",
       "  <tbody>\n",
       "    <tr>\n",
       "      <th>0</th>\n",
       "      <td>Why the Washington region needs better suburb-...</td>\n",
       "      <td>https://www.dcpolicycenter.org/publications/su...</td>\n",
       "      <td>D.W. Rowlands</td>\n",
       "      <td>February 21, 2019</td>\n",
       "      <td>Articles,  Transportation</td>\n",
       "      <td>Articles</td>\n",
       "      <td>Transportation</td>\n",
       "      <td></td>\n",
       "      <td></td>\n",
       "    </tr>\n",
       "    <tr>\n",
       "      <th>1</th>\n",
       "      <td>How can D.C. make bikesharing family-friendly?</td>\n",
       "      <td>https://www.dcpolicycenter.org/publications/ho...</td>\n",
       "      <td>Canaan Merchant</td>\n",
       "      <td>February 14, 2019</td>\n",
       "      <td>Articles,  Transportation</td>\n",
       "      <td>Articles</td>\n",
       "      <td>Transportation</td>\n",
       "      <td></td>\n",
       "      <td></td>\n",
       "    </tr>\n",
       "    <tr>\n",
       "      <th>2</th>\n",
       "      <td>Testimony of Executive Director Yesim Sayin Ta...</td>\n",
       "      <td>https://www.dcpolicycenter.org/publications/te...</td>\n",
       "      <td>D.C. Policy Center</td>\n",
       "      <td>February 6, 2019</td>\n",
       "      <td>Business Conditions,  Testimony</td>\n",
       "      <td>BusinessConditions</td>\n",
       "      <td>Testimony</td>\n",
       "      <td></td>\n",
       "      <td></td>\n",
       "    </tr>\n",
       "    <tr>\n",
       "      <th>3</th>\n",
       "      <td>Racial and ethnic diversity over time in D.C.’...</td>\n",
       "      <td>https://www.dcpolicycenter.org/publications/ra...</td>\n",
       "      <td>Chelsea Coffin</td>\n",
       "      <td>February 6, 2019</td>\n",
       "      <td>Articles,  Education,  Education Policy Initia...</td>\n",
       "      <td>Articles</td>\n",
       "      <td>Education</td>\n",
       "      <td>EducationPolicyInitiative</td>\n",
       "      <td></td>\n",
       "    </tr>\n",
       "    <tr>\n",
       "      <th>4</th>\n",
       "      <td>Battling Racial Discrimination in the Workplace</td>\n",
       "      <td>https://www.dcpolicycenter.org/publications/ba...</td>\n",
       "      <td>Becky Strauss</td>\n",
       "      <td>January 24, 2019</td>\n",
       "      <td>Articles,  Racial Equity,  Workforce and the L...</td>\n",
       "      <td>Articles</td>\n",
       "      <td>RacialEquity</td>\n",
       "      <td>WorkforceandtheLaborMarket</td>\n",
       "      <td></td>\n",
       "    </tr>\n",
       "  </tbody>\n",
       "</table>\n",
       "</div>"
      ],
      "text/plain": [
       "                                               title  \\\n",
       "0  Why the Washington region needs better suburb-...   \n",
       "1     How can D.C. make bikesharing family-friendly?   \n",
       "2  Testimony of Executive Director Yesim Sayin Ta...   \n",
       "3  Racial and ethnic diversity over time in D.C.’...   \n",
       "4    Battling Racial Discrimination in the Workplace   \n",
       "\n",
       "                                                 url              author  \\\n",
       "0  https://www.dcpolicycenter.org/publications/su...       D.W. Rowlands   \n",
       "1  https://www.dcpolicycenter.org/publications/ho...     Canaan Merchant   \n",
       "2  https://www.dcpolicycenter.org/publications/te...  D.C. Policy Center   \n",
       "3  https://www.dcpolicycenter.org/publications/ra...      Chelsea Coffin   \n",
       "4  https://www.dcpolicycenter.org/publications/ba...       Becky Strauss   \n",
       "\n",
       "                date                                               tags  \\\n",
       "0  February 21, 2019                          Articles,  Transportation   \n",
       "1  February 14, 2019                          Articles,  Transportation   \n",
       "2   February 6, 2019                    Business Conditions,  Testimony   \n",
       "3   February 6, 2019  Articles,  Education,  Education Policy Initia...   \n",
       "4   January 24, 2019  Articles,  Racial Equity,  Workforce and the L...   \n",
       "\n",
       "                tag_1           tag_2                       tag_3 tag_4  \n",
       "0            Articles  Transportation                                    \n",
       "1            Articles  Transportation                                    \n",
       "2  BusinessConditions       Testimony                                    \n",
       "3            Articles       Education   EducationPolicyInitiative        \n",
       "4            Articles    RacialEquity  WorkforceandtheLaborMarket        "
      ]
     },
     "execution_count": 26,
     "metadata": {},
     "output_type": "execute_result"
    }
   ],
   "source": [
    "data.head()"
   ]
  },
  {
   "cell_type": "code",
   "execution_count": 38,
   "metadata": {
    "collapsed": false
   },
   "outputs": [],
   "source": [
    "\n",
    "counts_1 = data['tag_1'].value_counts()\n",
    "counts_2 = data['tag_2'].value_counts()\n",
    "counts_3 = data['tag_3'].value_counts()\n",
    "total = counts_1 + counts_2 + counts_3"
   ]
  },
  {
   "cell_type": "code",
   "execution_count": null,
   "metadata": {
    "collapsed": false
   },
   "outputs": [],
   "source": [
    "data['tags'][6]"
   ]
  },
  {
   "cell_type": "code",
   "execution_count": 39,
   "metadata": {
    "collapsed": false
   },
   "outputs": [
    {
     "data": {
      "text/plain": [
       "<matplotlib.axes._subplots.AxesSubplot at 0xb4229e8>"
      ]
     },
     "execution_count": 39,
     "metadata": {},
     "output_type": "execute_result"
    },
    {
     "data": {
      "image/png": "[encoded data removed]",
      "text/plain": [
       "<Figure size 432x288 with 1 Axes>"
      ]
     },
     "metadata": {},
     "output_type": "display_data"
    }
   ],
   "source": [
    "%matplotlib inline\n",
    "total.plot(kind=\"bar\")"
   ]
  },
  {
   "cell_type": "code",
   "execution_count": 41,
   "metadata": {
    "collapsed": false,
    "scrolled": true
   },
   "outputs": [
    {
     "data": {
      "text/plain": [
       "                               NaN\n",
       "Articles                       NaN\n",
       "Budget                         NaN\n",
       "BusinessConditions            29.0\n",
       "D.C.History                    NaN\n",
       "Data                           NaN\n",
       "DataLensDC                     NaN\n",
       "Demographics                  34.0\n",
       "Economy                        NaN\n",
       "Education                     26.0\n",
       "EducationPolicyInitiative      NaN\n",
       "Environment                    NaN\n",
       "FirstTake                      NaN\n",
       "Health                        10.0\n",
       "Housing                       15.0\n",
       "PovertyandIncomeInequality     NaN\n",
       "PublicSafety                   NaN\n",
       "RacialEquity                   NaN\n",
       "Reports                        NaN\n",
       "Taxes                          NaN\n",
       "Testimony                      7.0\n",
       "Transportation                 NaN\n",
       "UrbanDevelopment               NaN\n",
       "WorkforceandtheLaborMarket     NaN\n",
       "dtype: float64"
      ]
     },
     "execution_count": 41,
     "metadata": {},
     "output_type": "execute_result"
    }
   ],
   "source": [
    "total"
   ]
  },
  {
   "cell_type": "code",
   "execution_count": 59,
   "metadata": {
    "collapsed": false
   },
   "outputs": [],
   "source": [
    "\n",
    "def count_all_tags(counts,total_counts):\n",
    "    for key in counts.keys():\n",
    "        try:\n",
    "            total_counts[key] = total_counts[key] + counts[key]\n",
    "        except:\n",
    "            print('%s -- not found adding value: %s'%(str(key),str(counts[key])))\n",
    "            total_counts[key] = counts[key]\n",
    "    return(total_counts)"
   ]
  },
  {
   "cell_type": "code",
   "execution_count": 61,
   "metadata": {
    "collapsed": false
   },
   "outputs": [
    {
     "name": "stdout",
     "output_type": "stream",
     "text": [
      "Articles -- not found adding value: 134\n",
      "Education -- not found adding value: 8\n",
      "BusinessConditions -- not found adding value: 6\n",
      "Housing -- not found adding value: 2\n",
      "Demographics -- not found adding value: 2\n",
      "Testimony -- not found adding value: 1\n",
      "Health -- not found adding value: 1\n",
      "{'Health': 1, 'Demographics': 2, 'Testimony': 1, 'Articles': 134, 'Education': 8, 'BusinessConditions': 6, 'Housing': 2}\n",
      "Transportation -- not found adding value: 21\n",
      "D.C.History -- not found adding value: 9\n",
      "PublicSafety -- not found adding value: 7\n",
      "Environment -- not found adding value: 6\n",
      "EducationPolicyInitiative -- not found adding value: 6\n",
      "WorkforceandtheLaborMarket -- not found adding value: 5\n",
      "Data -- not found adding value: 5\n",
      "Budget -- not found adding value: 5\n",
      "FirstTake -- not found adding value: 4\n",
      "Reports -- not found adding value: 4\n",
      "RacialEquity -- not found adding value: 3\n",
      "DataLensDC -- not found adding value: 3\n",
      "Economy -- not found adding value: 1\n",
      "PovertyandIncomeInequality -- not found adding value: 1\n",
      "Taxes -- not found adding value: 1\n",
      " -- not found adding value: 54\n",
      "UrbanDevelopment -- not found adding value: 1\n"
     ]
    }
   ],
   "source": [
    "total_counts = count_all_tags(counts_1,total_counts={})\n",
    "print(total_counts)\n",
    "total_counts = count_all_tags(counts_2,total_counts)\n",
    "total_counts = count_all_tags(counts_3,total_counts)\n"
   ]
  },
  {
   "cell_type": "code",
   "execution_count": 73,
   "metadata": {
    "collapsed": false
   },
   "outputs": [
    {
     "data": {
      "image/png": "[encoded data removed]",
      "text/plain": [
       "<Figure size 432x288 with 1 Axes>"
      ]
     },
     "metadata": {},
     "output_type": "display_data"
    }
   ],
   "source": [
    "from matplotlib import pyplot as plt\n",
    "\n",
    "D = total_counts\n",
    "\n",
    "plt.bar(range(len(D)), list(D.values()), align='center')\n",
    "plt.xticks(range(len(D)), list(D.keys()))\n",
    "\n",
    "\n",
    "plt.show()\n",
    "\n"
   ]
  },
  {
   "cell_type": "code",
   "execution_count": 70,
   "metadata": {
    "collapsed": false
   },
   "outputs": [],
   "source": [
    "y = total_counts.values()"
   ]
  },
  {
   "cell_type": "code",
   "execution_count": 91,
   "metadata": {
    "collapsed": false
   },
   "outputs": [
    {
     "data": {
      "text/html": [
       "<div>\n",
       "<table border=\"1\" class=\"dataframe\">\n",
       "  <thead>\n",
       "    <tr style=\"text-align: right;\">\n",
       "      <th></th>\n",
       "      <th>Tag</th>\n",
       "      <th>TagValues</th>\n",
       "    </tr>\n",
       "  </thead>\n",
       "  <tbody>\n",
       "    <tr>\n",
       "      <th>0</th>\n",
       "      <td></td>\n",
       "      <td>54</td>\n",
       "    </tr>\n",
       "    <tr>\n",
       "      <th>1</th>\n",
       "      <td>Articles</td>\n",
       "      <td>134</td>\n",
       "    </tr>\n",
       "    <tr>\n",
       "      <th>2</th>\n",
       "      <td>Budget</td>\n",
       "      <td>5</td>\n",
       "    </tr>\n",
       "    <tr>\n",
       "      <th>3</th>\n",
       "      <td>BusinessConditions</td>\n",
       "      <td>29</td>\n",
       "    </tr>\n",
       "    <tr>\n",
       "      <th>4</th>\n",
       "      <td>D.C.History</td>\n",
       "      <td>10</td>\n",
       "    </tr>\n",
       "    <tr>\n",
       "      <th>5</th>\n",
       "      <td>Data</td>\n",
       "      <td>7</td>\n",
       "    </tr>\n",
       "    <tr>\n",
       "      <th>6</th>\n",
       "      <td>DataLensDC</td>\n",
       "      <td>9</td>\n",
       "    </tr>\n",
       "    <tr>\n",
       "      <th>7</th>\n",
       "      <td>Demographics</td>\n",
       "      <td>34</td>\n",
       "    </tr>\n",
       "    <tr>\n",
       "      <th>8</th>\n",
       "      <td>Economy</td>\n",
       "      <td>3</td>\n",
       "    </tr>\n",
       "    <tr>\n",
       "      <th>9</th>\n",
       "      <td>Education</td>\n",
       "      <td>26</td>\n",
       "    </tr>\n",
       "    <tr>\n",
       "      <th>10</th>\n",
       "      <td>EducationPolicyInitiative</td>\n",
       "      <td>20</td>\n",
       "    </tr>\n",
       "    <tr>\n",
       "      <th>11</th>\n",
       "      <td>Environment</td>\n",
       "      <td>6</td>\n",
       "    </tr>\n",
       "    <tr>\n",
       "      <th>12</th>\n",
       "      <td>FirstTake</td>\n",
       "      <td>11</td>\n",
       "    </tr>\n",
       "    <tr>\n",
       "      <th>13</th>\n",
       "      <td>Health</td>\n",
       "      <td>10</td>\n",
       "    </tr>\n",
       "    <tr>\n",
       "      <th>14</th>\n",
       "      <td>Housing</td>\n",
       "      <td>15</td>\n",
       "    </tr>\n",
       "    <tr>\n",
       "      <th>15</th>\n",
       "      <td>PovertyandIncomeInequality</td>\n",
       "      <td>7</td>\n",
       "    </tr>\n",
       "    <tr>\n",
       "      <th>16</th>\n",
       "      <td>PublicSafety</td>\n",
       "      <td>11</td>\n",
       "    </tr>\n",
       "    <tr>\n",
       "      <th>17</th>\n",
       "      <td>RacialEquity</td>\n",
       "      <td>4</td>\n",
       "    </tr>\n",
       "    <tr>\n",
       "      <th>18</th>\n",
       "      <td>Reports</td>\n",
       "      <td>12</td>\n",
       "    </tr>\n",
       "    <tr>\n",
       "      <th>19</th>\n",
       "      <td>Taxes</td>\n",
       "      <td>6</td>\n",
       "    </tr>\n",
       "    <tr>\n",
       "      <th>20</th>\n",
       "      <td>Testimony</td>\n",
       "      <td>7</td>\n",
       "    </tr>\n",
       "    <tr>\n",
       "      <th>21</th>\n",
       "      <td>Transportation</td>\n",
       "      <td>31</td>\n",
       "    </tr>\n",
       "    <tr>\n",
       "      <th>22</th>\n",
       "      <td>UrbanDevelopment</td>\n",
       "      <td>1</td>\n",
       "    </tr>\n",
       "    <tr>\n",
       "      <th>23</th>\n",
       "      <td>WorkforceandtheLaborMarket</td>\n",
       "      <td>10</td>\n",
       "    </tr>\n",
       "  </tbody>\n",
       "</table>\n",
       "</div>"
      ],
      "text/plain": [
       "                           Tag  TagValues\n",
       "0                                      54\n",
       "1                     Articles        134\n",
       "2                       Budget          5\n",
       "3           BusinessConditions         29\n",
       "4                  D.C.History         10\n",
       "5                         Data          7\n",
       "6                   DataLensDC          9\n",
       "7                 Demographics         34\n",
       "8                      Economy          3\n",
       "9                    Education         26\n",
       "10   EducationPolicyInitiative         20\n",
       "11                 Environment          6\n",
       "12                   FirstTake         11\n",
       "13                      Health         10\n",
       "14                     Housing         15\n",
       "15  PovertyandIncomeInequality          7\n",
       "16                PublicSafety         11\n",
       "17                RacialEquity          4\n",
       "18                     Reports         12\n",
       "19                       Taxes          6\n",
       "20                   Testimony          7\n",
       "21              Transportation         31\n",
       "22            UrbanDevelopment          1\n",
       "23  WorkforceandtheLaborMarket         10"
      ]
     },
     "execution_count": 91,
     "metadata": {},
     "output_type": "execute_result"
    }
   ],
   "source": [
    "\n",
    "#total_df = pd.DataFrame(list(D.items()))\n",
    "\n",
    "total_df = pd.Series(D, name='TagValues')\n",
    "total_df.index.name = 'Tag'\n",
    "total_df.reset_index()"
   ]
  },
  {
   "cell_type": "code",
   "execution_count": 92,
   "metadata": {
    "collapsed": false
   },
   "outputs": [
    {
     "data": {
      "text/plain": [
       "<matplotlib.axes._subplots.AxesSubplot at 0xb74d470>"
      ]
     },
     "execution_count": 92,
     "metadata": {},
     "output_type": "execute_result"
    },
    {
     "data": {
      "image/png": "[encoded data removed]",
      "text/plain": [
       "<Figure size 432x288 with 1 Axes>"
      ]
     },
     "metadata": {},
     "output_type": "display_data"
    }
   ],
   "source": [
    "total_df.plot(kind=\"bar\")"
   ]
  },
  {
   "cell_type": "code",
   "execution_count": 102,
   "metadata": {
    "collapsed": false
   },
   "outputs": [],
   "source": [
    "tdf = pd.DataFrame.from_dict(D,orient='index').rename(columns={0:'TagValue'})"
   ]
  },
  {
   "cell_type": "code",
   "execution_count": 107,
   "metadata": {
    "collapsed": false
   },
   "outputs": [
    {
     "data": {
      "text/plain": [
       "Health                         10\n",
       "                               54\n",
       "Education                      26\n",
       "Reports                        12\n",
       "Articles                      134\n",
       "D.C.History                    10\n",
       "Environment                     6\n",
       "Housing                        15\n",
       "Testimony                       7\n",
       "Budget                          5\n",
       "DataLensDC                      9\n",
       "WorkforceandtheLaborMarket     10\n",
       "Transportation                 31\n",
       "FirstTake                      11\n",
       "Taxes                           6\n",
       "PublicSafety                   11\n",
       "Economy                         3\n",
       "PovertyandIncomeInequality      7\n",
       "EducationPolicyInitiative      20\n",
       "Demographics                   34\n",
       "Data                            7\n",
       "RacialEquity                    4\n",
       "UrbanDevelopment                1\n",
       "BusinessConditions             29\n",
       "Name: TagValue, dtype: int64"
      ]
     },
     "execution_count": 107,
     "metadata": {},
     "output_type": "execute_result"
    }
   ],
   "source": [
    "tdf['TagValue']"
   ]
  },
  {
   "cell_type": "code",
   "execution_count": 100,
   "metadata": {
    "collapsed": false
   },
   "outputs": [
    {
     "data": {
      "text/plain": [
       "<matplotlib.axes._subplots.AxesSubplot at 0xb799ac8>"
      ]
     },
     "execution_count": 100,
     "metadata": {},
     "output_type": "execute_result"
    },
    {
     "data": {
      "image/png": "[encoded data removed]",
      "text/plain": [
       "<Figure size 432x288 with 1 Axes>"
      ]
     },
     "metadata": {},
     "output_type": "display_data"
    }
   ],
   "source": [
    "tdf.plot(kind='bar')"
   ]
  },
  {
   "cell_type": "code",
   "execution_count": null,
   "metadata": {
    "collapsed": true
   },
   "outputs": [],
   "source": []
  }
 ],
 "metadata": {
  "anaconda-cloud": {},
  "kernelspec": {
   "display_name": "Python [default]",
   "language": "python",
   "name": "python3"
  },
  "language_info": {
   "codemirror_mode": {
    "name": "ipython",
    "version": 3
   },
   "file_extension": ".py",
   "mimetype": "text/x-python",
   "name": "python",
   "nbconvert_exporter": "python",
   "pygments_lexer": "ipython3",
   "version": "3.5.4"
  }
 },
 "nbformat": 4,
 "nbformat_minor": 2
}
