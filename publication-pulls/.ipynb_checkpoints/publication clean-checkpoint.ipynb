{
 "cells": [
  {
   "cell_type": "code",
   "execution_count": 76,
   "metadata": {
    "collapsed": true
   },
   "outputs": [],
   "source": [
    "import pandas as pd\n",
    "import re"
   ]
  },
  {
   "cell_type": "code",
   "execution_count": 77,
   "metadata": {
    "collapsed": false
   },
   "outputs": [],
   "source": [
    "data = pd.read_csv('title_list.txt',sep=';;',engine='python')"
   ]
  },
  {
   "cell_type": "code",
   "execution_count": 78,
   "metadata": {
    "collapsed": false
   },
   "outputs": [
    {
     "data": {
      "text/plain": [
       "'Articles,  Transportation'"
      ]
     },
     "execution_count": 78,
     "metadata": {},
     "output_type": "execute_result"
    }
   ],
   "source": [
    "data['tags'][0]"
   ]
  },
  {
   "cell_type": "code",
   "execution_count": 79,
   "metadata": {
    "collapsed": false
   },
   "outputs": [],
   "source": [
    "def get_tags(tagstr):\n",
    "    my_list = tagstr.split(\",\")\n",
    "    ml2 = []\n",
    "    for item in my_list:\n",
    "        item = re.sub(r\"\\s+\", \"\", item, flags=re.UNICODE)\n",
    "        ml2.append(item)\n",
    "    return(ml2)"
   ]
  },
  {
   "cell_type": "code",
   "execution_count": 80,
   "metadata": {
    "collapsed": true
   },
   "outputs": [],
   "source": [
    "def output_format(df):\n",
    "    output_list = []\n",
    "    i = 0\n",
    "    for line in range(len(df)):\n",
    "        \n",
    "        author = df['author'][i]\n",
    "        title = df['title'][i]\n",
    "        url = df['url'][i]\n",
    "        date = df['date'][i]\n",
    "\n",
    "        output_str = \"<li><a href='{}'> {}</a>. {},{}</li>\".format(url,title,author,date)\n",
    "        output_list.append(output_str)\n",
    "        \n",
    "        i+=1\n",
    "        \n",
    "        \n",
    "    return(output_list)\n",
    "    "
   ]
  },
  {
   "cell_type": "code",
   "execution_count": 81,
   "metadata": {
    "collapsed": false
   },
   "outputs": [],
   "source": [
    "with open('formatted.html','a') as f:\n",
    "    f.write(\"<ul>\")\n",
    "    output_line_list = output_format(data)\n",
    "    for line in output_line_list:\n",
    "        f.write(line)\n",
    "    f.write(\"</ul>\")"
   ]
  },
  {
   "cell_type": "code",
   "execution_count": null,
   "metadata": {
    "collapsed": false
   },
   "outputs": [],
   "source": [
    "data\n"
   ]
  },
  {
   "cell_type": "code",
   "execution_count": 91,
   "metadata": {
    "collapsed": false
   },
   "outputs": [
    {
     "name": "stdout",
     "output_type": "stream",
     "text": [
      "['Articles', 'Transportation']\n",
      "['Articles', 'Transportation']\n",
      "['BusinessConditions', 'Testimony']\n",
      "['Articles', 'Education', 'EducationPolicyInitiative']\n",
      "['Articles', 'RacialEquity', 'WorkforceandtheLaborMarket']\n",
      "['Articles', 'Education', 'EducationPolicyInitiative']\n",
      "['Articles', 'Education', 'EducationPolicyInitiative']\n",
      "['Education', 'EducationPolicyInitiative', 'Reports']\n",
      "['Articles', 'Demographics']\n",
      "['Articles', 'Economy', 'Housing', 'UrbanDevelopment']\n",
      "['BusinessConditions', 'Environment', 'Testimony']\n",
      "['Articles', 'Housing', 'RacialEquity', 'Taxes']\n",
      "['Articles', 'D.C.History', 'Housing', 'RacialEquity']\n",
      "['Housing', 'RacialEquity', 'Reports']\n",
      "['Articles', 'RacialEquity']\n",
      "['BusinessConditions', 'Reports']\n",
      "['Articles', 'Housing']\n",
      "['BusinessConditions', 'Environment', 'Testimony']\n",
      "['Articles', 'Health', 'PublicSafety']\n",
      "['Articles', 'Education', 'EducationPolicyInitiative', 'Housing']\n",
      "['Articles', 'Education', 'EducationPolicyInitiative', 'Housing']\n",
      "['Articles', 'Education', 'EducationPolicyInitiative']\n",
      "['Articles', 'Education', 'EducationPolicyInitiative']\n",
      "['Education', 'EducationPolicyInitiative', 'Reports']\n",
      "['Testimony', 'WorkforceandtheLaborMarket']\n",
      "['Articles', 'Demographics', 'PovertyandIncomeInequality']\n",
      "['Articles', 'BusinessConditions', 'Economy', 'Taxes', 'WorkforceandtheLaborMarket']\n",
      "['Articles', 'BusinessConditions', 'WorkforceandtheLaborMarket']\n",
      "['Articles', 'WorkforceandtheLaborMarket']\n",
      "['Articles', 'Transportation']\n",
      "['Articles', 'D.C.History', 'Demographics']\n",
      "['Education', 'EducationPolicyInitiative', 'Testimony']\n",
      "['Articles', 'D.C.History', 'Demographics']\n",
      "['Articles', 'PublicSafety', 'Transportation']\n",
      "['Articles', 'Demographics', 'PublicSafety', 'Transportation']\n",
      "['Articles', 'D.C.History', 'Demographics']\n",
      "['Articles', 'Demographics']\n",
      "['Articles', 'Education', 'EducationPolicyInitiative']\n",
      "['Articles', 'BusinessConditions', 'Economy', 'Environment', 'Taxes']\n",
      "['Articles', 'Education', 'EducationPolicyInitiative']\n",
      "['Articles', 'BusinessConditions', 'WorkforceandtheLaborMarket']\n",
      "['Articles', 'PovertyandIncomeInequality', 'WorkforceandtheLaborMarket']\n",
      "['Articles', 'Budget', 'Taxes']\n",
      "['Articles', 'BusinessConditions', 'FirstTake', 'Taxes']\n",
      "['Education', 'EducationPolicyInitiative', 'Testimony']\n",
      "['Articles', 'Budget', 'BusinessConditions', 'FirstTake', 'Taxes']\n",
      "['Articles', 'BusinessConditions']\n",
      "['Articles', 'Education', 'EducationPolicyInitiative']\n",
      "['Articles', 'Transportation']\n",
      "['Health', 'PublicSafety', 'Reports']\n",
      "['Articles', 'Transportation']\n",
      "['Articles', 'Education', 'EducationPolicyInitiative']\n",
      "['Education', 'EducationPolicyInitiative', 'Reports']\n",
      "['Articles', 'Education', 'EducationPolicyInitiative']\n",
      "['Demographics', 'Housing', 'Reports']\n",
      "['Articles', 'Demographics', 'Housing']\n",
      "['Articles', 'Transportation']\n",
      "['Housing', 'Testimony']\n",
      "['Articles', 'Data', 'DataLensDC']\n",
      "['Articles', 'WorkforceandtheLaborMarket']\n",
      "['Articles', 'BusinessConditions', 'DataLensDC', 'Housing']\n",
      "['Articles', 'Education', 'EducationPolicyInitiative']\n",
      "['Articles', 'Transportation']\n",
      "['Articles', 'Education']\n",
      "['Articles', 'Health', 'PublicSafety']\n",
      "['Articles', 'Transportation']\n",
      "['Articles', 'Data', 'PublicSafety']\n",
      "['Education', 'EducationPolicyInitiative', 'Reports']\n",
      "['Articles', 'Education', 'EducationPolicyInitiative']\n",
      "['Articles', 'Demographics', 'Housing']\n",
      "['Articles', 'Budget', 'Taxes']\n",
      "['Articles', 'Transportation']\n",
      "['Articles', 'BusinessConditions', 'Data']\n",
      "['BusinessConditions', 'Reports']\n",
      "['Articles', 'BusinessConditions', 'D.C.History', 'Demographics', 'Taxes']\n",
      "['Articles', 'BusinessConditions', 'WorkforceandtheLaborMarket']\n",
      "['Articles', 'FirstTake', 'Taxes']\n",
      "['Articles', 'Demographics', 'Taxes']\n",
      "['Articles', 'Demographics', 'Health']\n",
      "['Articles', 'Transportation']\n",
      "['Articles', 'Education']\n",
      "['Articles', 'BusinessConditions', 'FirstTake', 'Taxes']\n",
      "['Articles', 'Transportation']\n",
      "['Articles', 'Demographics', 'Transportation']\n",
      "['Education', 'Reports']\n",
      "['Articles', 'Demographics', 'Education']\n",
      "['Articles', 'BusinessConditions']\n",
      "['Articles', 'Demographics', 'PovertyandIncomeInequality']\n",
      "['Articles', 'Transportation']\n",
      "['Articles', 'Transportation']\n",
      "['Articles', 'Demographics', 'UrbanDevelopment']\n",
      "['Articles', 'PublicSafety']\n",
      "['Articles', 'Transportation']\n",
      "['Articles', 'FirstTake', 'Taxes', 'Transportation']\n",
      "['Articles', 'Data']\n",
      "['Articles', 'Environment']\n",
      "['Articles', 'D.C.History', 'Demographics']\n",
      "['Articles', 'BusinessConditions', 'DataLensDC']\n",
      "['Articles', 'Environment', 'Health']\n",
      "['Articles', 'Environment', 'Transportation']\n",
      "['Articles', 'BusinessConditions', 'Data', 'DataLensDC']\n",
      "['Articles', 'D.C.History', 'Demographics']\n",
      "['Articles', 'FirstTake', 'Transportation']\n",
      "['Articles', 'Demographics', 'Health', 'PovertyandIncomeInequality']\n",
      "['Articles', 'Data', 'DataLensDC']\n",
      "['Articles', 'PublicSafety']\n",
      "['Articles', 'WorkforceandtheLaborMarket']\n",
      "['Articles', 'Demographics']\n",
      "['Articles', 'D.C.History', 'Demographics', 'UrbanDevelopment']\n",
      "['Articles', 'Environment', 'Transportation']\n",
      "['Articles', 'D.C.History', 'DataLensDC']\n",
      "['Articles', 'Taxes', 'Transportation']\n",
      "['Articles', 'Demographics', 'Transportation', 'WorkforceandtheLaborMarket']\n",
      "['Articles', 'D.C.History', 'Demographics', 'UrbanDevelopment']\n",
      "['Articles', 'Housing']\n",
      "['Articles', 'Demographics']\n",
      "['Articles', 'BusinessConditions', 'FirstTake', 'Taxes']\n",
      "['Articles', 'PublicSafety']\n",
      "['Education', 'Reports']\n",
      "['Articles', 'WorkforceandtheLaborMarket']\n",
      "['Articles', 'BusinessConditions', 'FirstTake', 'Taxes']\n",
      "['Articles', 'Demographics', 'Health', 'PovertyandIncomeInequality', 'RacialEquity']\n",
      "['Articles', 'DataLensDC', 'Demographics']\n",
      "['Articles', 'FirstTake', 'Transportation']\n",
      "['Demographics', 'Education', 'Reports']\n",
      "['Articles', 'PublicSafety']\n",
      "['Articles', 'Transportation']\n",
      "['Articles', 'DataLensDC', 'Health']\n",
      "['Articles', 'Demographics']\n",
      "['Articles', 'BusinessConditions', 'FirstTake', 'Taxes', 'Transportation']\n",
      "['Articles', 'Transportation']\n",
      "['Articles', 'Demographics', 'Transportation']\n",
      "['Articles', 'Transportation']\n",
      "['Articles', 'Budget', 'BusinessConditions']\n",
      "['Articles', 'Housing']\n",
      "['Articles', 'Housing', 'PovertyandIncomeInequality']\n",
      "['Articles', 'Budget', 'BusinessConditions', 'Taxes']\n",
      "['Articles', 'BusinessConditions', 'FirstTake', 'Taxes']\n",
      "['Articles', 'Data', 'DataLensDC', 'PublicSafety']\n",
      "['Articles', 'Demographics', 'Transportation']\n",
      "['Articles', 'Transportation']\n",
      "['Articles', 'Transportation']\n",
      "['Articles', 'Demographics', 'PovertyandIncomeInequality']\n",
      "['Articles', 'Transportation']\n",
      "['Articles', 'Health', 'PovertyandIncomeInequality', 'Transportation']\n",
      "['Articles', 'BusinessConditions', 'Demographics', 'Housing', 'WorkforceandtheLaborMarket']\n",
      "['Articles', 'Health', 'PovertyandIncomeInequality', 'Transportation']\n",
      "['Articles', 'Housing']\n",
      "['BusinessConditions', 'Demographics', 'Housing', 'WorkforceandtheLaborMarket']\n",
      "['Articles', 'BusinessConditions', 'FirstTake']\n",
      "['Articles', 'DataLensDC', 'Demographics']\n",
      "['Articles', 'Transportation']\n",
      "['Articles', 'Housing']\n",
      "['Articles', 'PublicSafety']\n"
     ]
    }
   ],
   "source": [
    "i= 0\n",
    "for line in range(len(data)):\n",
    "\n",
    "    a = get_tags(data['tags'][i])\n",
    "    print(a)\n",
    "    try:\n",
    "        data['tag_1'][i] = a[0]\n",
    "    except:\n",
    "        data['tag_1'][i] = 'NaN'\n",
    "    try:\n",
    "        data['tag_2'][i] = a[1]\n",
    "    except:\n",
    "        data['tag_2'][i] = 'NaN'\n",
    "    try:\n",
    "        data['tag_3'][i] = a[2]\n",
    "    except:\n",
    "        data['tag_3'][i] = 'NaN'\n",
    "    try:\n",
    "        data['tag_4'][i] = a[3]\n",
    "    except:\n",
    "        data['tag_4'][i] = 'NaN'\n",
    "    i+=1"
   ]
  },
  {
   "cell_type": "code",
   "execution_count": 92,
   "metadata": {
    "collapsed": false
   },
   "outputs": [
    {
     "data": {
      "text/html": [
       "<div>\n",
       "<table border=\"1\" class=\"dataframe\">\n",
       "  <thead>\n",
       "    <tr style=\"text-align: right;\">\n",
       "      <th></th>\n",
       "      <th>title</th>\n",
       "      <th>url</th>\n",
       "      <th>author</th>\n",
       "      <th>date</th>\n",
       "      <th>tags</th>\n",
       "      <th>tag_1</th>\n",
       "      <th>tag_2</th>\n",
       "      <th>tag_3</th>\n",
       "      <th>tag_4</th>\n",
       "    </tr>\n",
       "  </thead>\n",
       "  <tbody>\n",
       "    <tr>\n",
       "      <th>0</th>\n",
       "      <td>Why the Washington region needs better suburb-...</td>\n",
       "      <td>https://www.dcpolicycenter.org/publications/su...</td>\n",
       "      <td>D.W. Rowlands</td>\n",
       "      <td>February 21, 2019</td>\n",
       "      <td>Articles,  Transportation</td>\n",
       "      <td>Articles</td>\n",
       "      <td>Transportation</td>\n",
       "      <td>NaN</td>\n",
       "      <td>NaN</td>\n",
       "    </tr>\n",
       "    <tr>\n",
       "      <th>1</th>\n",
       "      <td>How can D.C. make bikesharing family-friendly?</td>\n",
       "      <td>https://www.dcpolicycenter.org/publications/ho...</td>\n",
       "      <td>Canaan Merchant</td>\n",
       "      <td>February 14, 2019</td>\n",
       "      <td>Articles,  Transportation</td>\n",
       "      <td>Articles</td>\n",
       "      <td>Transportation</td>\n",
       "      <td>NaN</td>\n",
       "      <td>NaN</td>\n",
       "    </tr>\n",
       "    <tr>\n",
       "      <th>2</th>\n",
       "      <td>Testimony of Executive Director Yesim Sayin Ta...</td>\n",
       "      <td>https://www.dcpolicycenter.org/publications/te...</td>\n",
       "      <td>D.C. Policy Center</td>\n",
       "      <td>February 6, 2019</td>\n",
       "      <td>Business Conditions,  Testimony</td>\n",
       "      <td>BusinessConditions</td>\n",
       "      <td>Testimony</td>\n",
       "      <td>NaN</td>\n",
       "      <td>NaN</td>\n",
       "    </tr>\n",
       "    <tr>\n",
       "      <th>3</th>\n",
       "      <td>Racial and ethnic diversity over time in D.C.’...</td>\n",
       "      <td>https://www.dcpolicycenter.org/publications/ra...</td>\n",
       "      <td>Chelsea Coffin</td>\n",
       "      <td>February 6, 2019</td>\n",
       "      <td>Articles,  Education,  Education Policy Initia...</td>\n",
       "      <td>Articles</td>\n",
       "      <td>Education</td>\n",
       "      <td>EducationPolicyInitiative</td>\n",
       "      <td>NaN</td>\n",
       "    </tr>\n",
       "    <tr>\n",
       "      <th>4</th>\n",
       "      <td>Battling Racial Discrimination in the Workplace</td>\n",
       "      <td>https://www.dcpolicycenter.org/publications/ba...</td>\n",
       "      <td>Becky Strauss</td>\n",
       "      <td>January 24, 2019</td>\n",
       "      <td>Articles,  Racial Equity,  Workforce and the L...</td>\n",
       "      <td>Articles</td>\n",
       "      <td>RacialEquity</td>\n",
       "      <td>WorkforceandtheLaborMarket</td>\n",
       "      <td>NaN</td>\n",
       "    </tr>\n",
       "  </tbody>\n",
       "</table>\n",
       "</div>"
      ],
      "text/plain": [
       "                                               title  \\\n",
       "0  Why the Washington region needs better suburb-...   \n",
       "1     How can D.C. make bikesharing family-friendly?   \n",
       "2  Testimony of Executive Director Yesim Sayin Ta...   \n",
       "3  Racial and ethnic diversity over time in D.C.’...   \n",
       "4    Battling Racial Discrimination in the Workplace   \n",
       "\n",
       "                                                 url              author  \\\n",
       "0  https://www.dcpolicycenter.org/publications/su...       D.W. Rowlands   \n",
       "1  https://www.dcpolicycenter.org/publications/ho...     Canaan Merchant   \n",
       "2  https://www.dcpolicycenter.org/publications/te...  D.C. Policy Center   \n",
       "3  https://www.dcpolicycenter.org/publications/ra...      Chelsea Coffin   \n",
       "4  https://www.dcpolicycenter.org/publications/ba...       Becky Strauss   \n",
       "\n",
       "                date                                               tags  \\\n",
       "0  February 21, 2019                          Articles,  Transportation   \n",
       "1  February 14, 2019                          Articles,  Transportation   \n",
       "2   February 6, 2019                    Business Conditions,  Testimony   \n",
       "3   February 6, 2019  Articles,  Education,  Education Policy Initia...   \n",
       "4   January 24, 2019  Articles,  Racial Equity,  Workforce and the L...   \n",
       "\n",
       "                tag_1           tag_2                       tag_3 tag_4  \n",
       "0            Articles  Transportation                         NaN   NaN  \n",
       "1            Articles  Transportation                         NaN   NaN  \n",
       "2  BusinessConditions       Testimony                         NaN   NaN  \n",
       "3            Articles       Education   EducationPolicyInitiative   NaN  \n",
       "4            Articles    RacialEquity  WorkforceandtheLaborMarket   NaN  "
      ]
     },
     "execution_count": 92,
     "metadata": {},
     "output_type": "execute_result"
    }
   ],
   "source": [
    "data.head()"
   ]
  },
  {
   "cell_type": "code",
   "execution_count": 93,
   "metadata": {
    "collapsed": false
   },
   "outputs": [
    {
     "data": {
      "text/plain": [
       "Demographics                  22\n",
       "Transportation                21\n",
       "BusinessConditions            20\n",
       "Education                     17\n",
       "D.C.History                    9\n",
       "Housing                        8\n",
       "PublicSafety                   7\n",
       "Environment                    6\n",
       "EducationPolicyInitiative      6\n",
       "WorkforceandtheLaborMarket     5\n",
       "Data                           5\n",
       "Budget                         5\n",
       "Reports                        4\n",
       "FirstTake                      4\n",
       "Health                         4\n",
       "DataLensDC                     3\n",
       "RacialEquity                   3\n",
       "Testimony                      2\n",
       "PovertyandIncomeInequality     1\n",
       "Economy                        1\n",
       "Taxes                          1\n",
       "Name: tag_2, dtype: int64"
      ]
     },
     "execution_count": 93,
     "metadata": {},
     "output_type": "execute_result"
    }
   ],
   "source": [
    "data['tag_2'].value_counts()"
   ]
  },
  {
   "cell_type": "code",
   "execution_count": null,
   "metadata": {
    "collapsed": false
   },
   "outputs": [],
   "source": [
    "data['tags'][6]"
   ]
  },
  {
   "cell_type": "code",
   "execution_count": null,
   "metadata": {
    "collapsed": true
   },
   "outputs": [],
   "source": []
  }
 ],
 "metadata": {
  "anaconda-cloud": {},
  "kernelspec": {
   "display_name": "Python [default]",
   "language": "python",
   "name": "python3"
  },
  "language_info": {
   "codemirror_mode": {
    "name": "ipython",
    "version": 3
   },
   "file_extension": ".py",
   "mimetype": "text/x-python",
   "name": "python",
   "nbconvert_exporter": "python",
   "pygments_lexer": "ipython3",
   "version": "3.5.4"
  }
 },
 "nbformat": 4,
 "nbformat_minor": 2
}
